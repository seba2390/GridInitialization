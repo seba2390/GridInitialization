{
 "cells": [
  {
   "cell_type": "code",
   "execution_count": 4,
   "id": "initial_id",
   "metadata": {
    "collapsed": true,
    "ExecuteTime": {
     "end_time": "2024-02-25T17:04:15.324713Z",
     "start_time": "2024-02-25T17:04:15.322565Z"
    }
   },
   "outputs": [],
   "source": [
    "import numpy as np\n",
    "from src.Grid import Grid\n",
    "from src.BFS import shortest_swap_sequence_nn"
   ]
  },
  {
   "cell_type": "code",
   "outputs": [
    {
     "name": "stdout",
     "output_type": "stream",
     "text": [
      "-------\n",
      "|0|1|1|\n",
      "-------\n",
      "|0|0|0|\n",
      "-------\n",
      "|0|0|0|\n",
      "-------\n"
     ]
    }
   ],
   "source": [
    "grid_A = Grid(dimensions=(3,3))\n",
    "grid_A.set_configuration(configuration=np.array([[0,1,1],[0,0,0],[0,0,0]]))\n",
    "grid_B = Grid(dimensions=grid_A.grid.shape)\n",
    "grid_B.set_configuration(configuration=np.array([[0,0,0],[1,0,0],[0,0,1]]))\n",
    "grid_A.show()"
   ],
   "metadata": {
    "collapsed": false,
    "ExecuteTime": {
     "end_time": "2024-02-25T17:04:17.222623Z",
     "start_time": "2024-02-25T17:04:17.219653Z"
    }
   },
   "id": "977416df84976334",
   "execution_count": 5
  },
  {
   "cell_type": "code",
   "outputs": [
    {
     "name": "stdout",
     "output_type": "stream",
     "text": [
      "-------\n",
      "|0|0|0|\n",
      "-------\n",
      "|1|0|0|\n",
      "-------\n",
      "|0|0|1|\n",
      "-------\n"
     ]
    }
   ],
   "source": [
    "grid_B.show()"
   ],
   "metadata": {
    "collapsed": false,
    "ExecuteTime": {
     "end_time": "2024-02-25T17:04:17.777946Z",
     "start_time": "2024-02-25T17:04:17.773682Z"
    }
   },
   "id": "88f96e66eef065ff",
   "execution_count": 6
  },
  {
   "cell_type": "code",
   "outputs": [
    {
     "name": "stdout",
     "output_type": "stream",
     "text": [
      "-------\n",
      "|0|0|0|\n",
      "-------\n",
      "|1|0|0|\n",
      "-------\n",
      "|0|0|1|\n",
      "-------\n"
     ]
    }
   ],
   "source": [
    "sequence = shortest_swap_sequence_nn(grid_A,grid_B)\n",
    "for swap in sequence:\n",
    "    grid_A.swap(swap[0],swap[1])\n",
    "grid_A.show()"
   ],
   "metadata": {
    "collapsed": false,
    "ExecuteTime": {
     "end_time": "2024-02-25T17:04:18.251655Z",
     "start_time": "2024-02-25T17:04:18.218833Z"
    }
   },
   "id": "b426a4271eebb83c",
   "execution_count": 7
  },
  {
   "cell_type": "code",
   "outputs": [
    {
     "data": {
      "text/plain": "[((0, 0), (0, 1)), ((0, 0), (1, 0)), ((0, 2), (1, 2)), ((1, 2), (2, 2))]"
     },
     "execution_count": 8,
     "metadata": {},
     "output_type": "execute_result"
    }
   ],
   "source": [
    "sequence"
   ],
   "metadata": {
    "collapsed": false,
    "ExecuteTime": {
     "end_time": "2024-02-25T17:04:26.369360Z",
     "start_time": "2024-02-25T17:04:26.366403Z"
    }
   },
   "id": "b495a84a35a47dfd",
   "execution_count": 8
  },
  {
   "cell_type": "code",
   "outputs": [],
   "source": [],
   "metadata": {
    "collapsed": false
   },
   "id": "7dbc5b359691fd99"
  }
 ],
 "metadata": {
  "kernelspec": {
   "display_name": "Python 3",
   "language": "python",
   "name": "python3"
  },
  "language_info": {
   "codemirror_mode": {
    "name": "ipython",
    "version": 2
   },
   "file_extension": ".py",
   "mimetype": "text/x-python",
   "name": "python",
   "nbconvert_exporter": "python",
   "pygments_lexer": "ipython2",
   "version": "2.7.6"
  }
 },
 "nbformat": 4,
 "nbformat_minor": 5
}
