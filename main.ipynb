{
 "cells": [
  {
   "cell_type": "code",
   "execution_count": 11,
   "id": "initial_id",
   "metadata": {
    "collapsed": true,
    "ExecuteTime": {
     "end_time": "2024-02-26T11:23:29.574896Z",
     "start_time": "2024-02-26T11:23:29.570155Z"
    }
   },
   "outputs": [],
   "source": [
    "import numpy as np\n",
    "import matplotlib.pyplot as plt\n",
    "from src.Grid import Grid\n",
    "from src.BFS import shortest_swap_sequence_nn\n",
    "from src.Heuristic import heuristic_nn_distance"
   ]
  },
  {
   "cell_type": "code",
   "outputs": [],
   "source": [
    "grid_a = Grid(dimensions=(3, 3))\n",
    "grid_a.set_random_configuration(n_excitations=4)\n",
    "\n",
    "grid_b = Grid(dimensions=(3, 3))\n",
    "grid_b.set_random_configuration(n_excitations=4)"
   ],
   "metadata": {
    "collapsed": false,
    "ExecuteTime": {
     "end_time": "2024-02-26T11:23:31.652351Z",
     "start_time": "2024-02-26T11:23:31.647996Z"
    }
   },
   "id": "aa89e3d38338373e",
   "execution_count": 12
  },
  {
   "cell_type": "code",
   "outputs": [
    {
     "name": "stdout",
     "output_type": "stream",
     "text": [
      "-------\n",
      "|0|1|0|\n",
      "-------\n",
      "|0|1|1|\n",
      "-------\n",
      "|0|0|1|\n",
      "-------\n",
      "-------\n",
      "|1|1|1|\n",
      "-------\n",
      "|0|1|0|\n",
      "-------\n",
      "|0|0|0|\n",
      "-------\n"
     ]
    }
   ],
   "source": [
    "grid_a.show(),\n",
    "grid_b.show()"
   ],
   "metadata": {
    "collapsed": false,
    "ExecuteTime": {
     "end_time": "2024-02-26T11:23:32.266337Z",
     "start_time": "2024-02-26T11:23:32.262365Z"
    }
   },
   "id": "9ff59da5d56a4ba5",
   "execution_count": 13
  },
  {
   "cell_type": "code",
   "outputs": [
    {
     "data": {
      "text/plain": "([((0, 0), (0, 1)),\n  ((0, 1), (1, 1)),\n  ((0, 2), (1, 2)),\n  ((1, 2), (2, 2)),\n  ((1, 1), (1, 2))],\n 5)"
     },
     "execution_count": 14,
     "metadata": {},
     "output_type": "execute_result"
    }
   ],
   "source": [
    "sequence = shortest_swap_sequence_nn(grid_a,grid_b)\n",
    "sequence, len(sequence)"
   ],
   "metadata": {
    "collapsed": false,
    "ExecuteTime": {
     "end_time": "2024-02-26T11:23:33.835703Z",
     "start_time": "2024-02-26T11:23:32.847134Z"
    }
   },
   "id": "56634b94d94a74b",
   "execution_count": 14
  },
  {
   "cell_type": "code",
   "outputs": [
    {
     "data": {
      "text/plain": "5"
     },
     "execution_count": 15,
     "metadata": {},
     "output_type": "execute_result"
    }
   ],
   "source": [
    "heuristic_nn_distance(grid_a.grid,grid_b.grid)"
   ],
   "metadata": {
    "collapsed": false,
    "ExecuteTime": {
     "end_time": "2024-02-26T11:23:35.001072Z",
     "start_time": "2024-02-26T11:23:34.995572Z"
    }
   },
   "id": "b1e25973566c05a5",
   "execution_count": 15
  },
  {
   "cell_type": "code",
   "outputs": [],
   "source": [
    "init_grid_a = Grid(dimensions=(5,5))\n",
    "init_grid_a.set_configuration(configuration=np.array([[0,0,0,0,0],\n",
    "                                                      [0,0,1,0,0],\n",
    "                                                      [0,1,0,1,0],\n",
    "                                                      [0,0,1,0,0],\n",
    "                                                      [0,0,0,0,0]]))\n",
    "init_grid_b = Grid(dimensions=(5,5))\n",
    "init_grid_b.set_configuration(configuration=np.array([[0,0,1,0,0],\n",
    "                                                      [0,0,0,0,0],\n",
    "                                                      [1,0,0,0,1],\n",
    "                                                      [0,0,0,0,0],\n",
    "                                                      [0,0,1,0,0]]))\n",
    "seeds = 50000\n",
    "random_grid = Grid(dimensions=(5,5))\n",
    "\n",
    "distances_a, distances_b = [], []\n",
    "for seed in range(seeds):\n",
    "    random_grid.set_random_configuration(n_excitations=init_grid_a.number_of_excitations())\n",
    "    distances_a.append(heuristic_nn_distance(grid_a=init_grid_a.grid,grid_b=random_grid.grid))\n",
    "    distances_b.append(heuristic_nn_distance(grid_a=init_grid_b.grid,grid_b=random_grid.grid))\n",
    "    \n",
    "    random_grid.reset_configuration()\n",
    "    "
   ],
   "metadata": {
    "collapsed": false,
    "ExecuteTime": {
     "end_time": "2024-02-26T11:29:18.246368Z",
     "start_time": "2024-02-26T11:29:12.709053Z"
    }
   },
   "id": "8d2e932fbfbfd825",
   "execution_count": 24
  },
  {
   "cell_type": "code",
   "outputs": [
    {
     "data": {
      "text/plain": "<Figure size 1500x400 with 2 Axes>",
      "image/png": "[encoded data removed]"
     },
     "metadata": {},
     "output_type": "display_data"
    }
   ],
   "source": [
    "fig, ax = plt.subplots(1,2, figsize=(15,4))\n",
    "\n",
    "ax[0].hist(distances_a,density=True)\n",
    "ax[0].vlines(np.mean(distances_a),0,0.2, color='red',lw=4)\n",
    "ax[0].set_ylim(0,0.3)\n",
    "ax[0].text(np.mean(distances_a)*0.9,0.22,f'{np.mean(distances_a)}',color='red', fontsize=16)\n",
    "\n",
    "ax[1].hist(distances_b,density=True)\n",
    "ax[1].vlines(np.mean(distances_b),0,0.2, color='red',lw=4)\n",
    "ax[1].set_ylim(0,0.3)\n",
    "ax[1].text(np.mean(distances_b)*0.9,0.22,f'{np.mean(distances_b)}',color='red', fontsize=16)\n",
    "plt.show()"
   ],
   "metadata": {
    "collapsed": false,
    "ExecuteTime": {
     "end_time": "2024-02-26T11:29:18.438754Z",
     "start_time": "2024-02-26T11:29:18.251555Z"
    }
   },
   "id": "19d53bc822267bc0",
   "execution_count": 25
  },
  {
   "cell_type": "code",
   "outputs": [],
   "source": [],
   "metadata": {
    "collapsed": false
   },
   "id": "f4b3a6aab4ae04dd"
  }
 ],
 "metadata": {
  "kernelspec": {
   "display_name": "Python 3",
   "language": "python",
   "name": "python3"
  },
  "language_info": {
   "codemirror_mode": {
    "name": "ipython",
    "version": 2
   },
   "file_extension": ".py",
   "mimetype": "text/x-python",
   "name": "python",
   "nbconvert_exporter": "python",
   "pygments_lexer": "ipython2",
   "version": "2.7.6"
  }
 },
 "nbformat": 4,
 "nbformat_minor": 5
}
